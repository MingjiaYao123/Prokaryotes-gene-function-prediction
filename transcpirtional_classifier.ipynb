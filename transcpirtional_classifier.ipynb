{
 "cells": [
  {
   "cell_type": "code",
   "execution_count": 1,
   "metadata": {},
   "outputs": [],
   "source": [
    "import numpy as np\n",
    "import matplotlib.pyplot as plt\n",
    "from sklearn import svm, datasets\n",
    "from Bio import SeqIO\n",
    "import difflib\n",
    "import random\n",
    "from scipy import stats\n",
    "from sklearn.linear_model import LogisticRegression\n",
    "from sklearn import datasets\n",
    "import warnings\n",
    "warnings.filterwarnings('ignore')"
   ]
  },
  {
   "cell_type": "code",
   "execution_count": 2,
   "metadata": {},
   "outputs": [
    {
     "name": "stdout",
     "output_type": "stream",
     "text": [
      "291\n",
      "4066\n",
      "4357\n"
     ]
    }
   ],
   "source": [
    "#find out the number of times that the keyword \"transcriptional\" show in the description\n",
    "n=0\n",
    "t=0\n",
    "with open('ecoli_sequence.txt', mode='r') as handle:\n",
    "    for record in SeqIO.parse(handle, 'fasta'):\n",
    "        t+=1\n",
    "        identifier = record.id\n",
    "        description = record.description\n",
    "        sequence = record.seq\n",
    "        p_sequence=sequence.translate(to_stop=True)\n",
    "        if 'transcriptional' in description:\n",
    "            n+=1\n",
    "print(n)\n",
    "print(t-n)\n",
    "print(t)"
   ]
  },
  {
   "cell_type": "code",
   "execution_count": 3,
   "metadata": {},
   "outputs": [],
   "source": [
    "#create the dictionary called \"ret_lib\" shows the keywords that shows for the most times\n",
    "import operator\n",
    "word_count={}\n",
    "with open('ecoli_sequence.txt', mode='r') as handle:\n",
    "    for record in SeqIO.parse(handle, 'fasta'):\n",
    "        t+=1\n",
    "        identifier = record.id\n",
    "        description = record.description\n",
    "        sequence = record.seq\n",
    "        p_sequence=sequence.translate(to_stop=True)\n",
    "        start=description.find('protein=')\n",
    "        end=description.find('] [protein_id=')\n",
    "        prot=description[start:end][8:]\n",
    "        prot_li=prot.split(' ')\n",
    "        for w in prot_li:\n",
    "            if w in word_count:\n",
    "                word_count[w]=word_count[w]+1\n",
    "            else:\n",
    "                word_count[w]=1\n",
    "                \n",
    "key_list = list(word_count.keys()) \n",
    "val_list = list(word_count.values())\n",
    "ret_lib={}\n",
    "for i in range(50):\n",
    "    max_value = max(val_list)\n",
    "    max_index = val_list.index(max_value)\n",
    "    ret_lib[key_list[max_index]]=max_value\n",
    "    val_list[max_index]=0"
   ]
  },
  {
   "cell_type": "code",
   "execution_count": 4,
   "metadata": {},
   "outputs": [
    {
     "data": {
      "text/plain": [
       "{'protein': 1432,\n",
       " 'putative': 820,\n",
       " 'subunit': 453,\n",
       " 'transcriptional': 291,\n",
       " 'transporter': 283,\n",
       " 'membrane': 276,\n",
       " 'DNA-binding': 260,\n",
       " 'domain-containing': 223,\n",
       " 'prophage;': 212,\n",
       " 'regulator': 201,\n",
       " 'ABC': 195,\n",
       " 'synthase': 125,\n",
       " 'family': 124,\n",
       " 'binding': 119,\n",
       " 'uncharacterized': 117,\n",
       " '[pseudo=true]': 115,\n",
       " '[gbkey=CDS': 115,\n",
       " 'dehydrogenase': 101,\n",
       " 'reductase': 101,\n",
       " 'inner': 100,\n",
       " 'kinase': 92,\n",
       " 'periplasmic': 86,\n",
       " 'lipoprotein': 83,\n",
       " 'dual': 81,\n",
       " 'factor': 78,\n",
       " 'DNA': 78,\n",
       " 'repressor': 75,\n",
       " 'conserved': 73,\n",
       " 'system': 72,\n",
       " 'enzyme': 70,\n",
       " 'ribosomal': 66,\n",
       " 'of': 65,\n",
       " 'component': 65,\n",
       " 'symporter': 62,\n",
       " 'oxidoreductase': 62,\n",
       " 'ATP': 61,\n",
       " 'outer': 59,\n",
       " 'A': 52,\n",
       " 'activator': 51,\n",
       " 'methyltransferase': 51,\n",
       " 'PTS': 49,\n",
       " 'fimbrial': 49,\n",
       " 'chaperone': 45,\n",
       " 'hydrolase': 45,\n",
       " 'and': 45,\n",
       " '2': 45,\n",
       " 'acid': 45,\n",
       " 'exporter': 44,\n",
       " '1': 43,\n",
       " 'ligase': 42}"
      ]
     },
     "execution_count": 4,
     "metadata": {},
     "output_type": "execute_result"
    }
   ],
   "source": [
    "ret_lib"
   ]
  },
  {
   "cell_type": "code",
   "execution_count": 5,
   "metadata": {},
   "outputs": [],
   "source": [
    "amino_acids={'A':11,'C':12,'D':13,'E':14,'F':15,'G':16,'H':17,'I':18,'K':19,\n",
    "            'L':21,'M':22,'N':23,'P':24,'Q':25,'R':26,'S':27,'T':28,'V':29,'W':31,'Y':32}"
   ]
  },
  {
   "cell_type": "code",
   "execution_count": 6,
   "metadata": {},
   "outputs": [],
   "source": [
    "#the list of possible 3-mers, totally 8000\n",
    "kmers={}\n",
    "n=0\n",
    "for i in amino_acids:\n",
    "    for j in amino_acids:\n",
    "        for k in amino_acids:\n",
    "            kmer=i+j+k\n",
    "            kmers[kmer]=n\n",
    "            n+=1"
   ]
  },
  {
   "cell_type": "code",
   "execution_count": 7,
   "metadata": {},
   "outputs": [
    {
     "data": {
      "text/plain": [
       "8000"
      ]
     },
     "execution_count": 7,
     "metadata": {},
     "output_type": "execute_result"
    }
   ],
   "source": [
    "len(kmers)"
   ]
  },
  {
   "cell_type": "code",
   "execution_count": 8,
   "metadata": {},
   "outputs": [],
   "source": [
    "#the function to find the existing k-mers in a protein sequence\n",
    "def find_kmer(seq):\n",
    "    amino = {}\n",
    "    l = len(seq)-2\n",
    "    for i in range(l):\n",
    "        three_mer = seq[i:i+3]\n",
    "        if three_mer in amino:\n",
    "            amino[three_mer] += 1\n",
    "        else:\n",
    "            amino[three_mer] = 1\n",
    "    return amino\n",
    "\n",
    "#the function to transfer the protein sequence to an array with number of k-mers as features\n",
    "def seq_to_kmer(seq):\n",
    "    ret=np.zeros((8000,), dtype=int)\n",
    "    amino=find_kmer(seq)\n",
    "    key_list = list(kmers.keys()) \n",
    "    val_list = list(kmers.values())\n",
    "    for i in amino:\n",
    "        index=kmers[i]\n",
    "        value=amino[i]\n",
    "        ret[index]=value\n",
    "    return ret"
   ]
  },
  {
   "cell_type": "code",
   "execution_count": 9,
   "metadata": {},
   "outputs": [
    {
     "data": {
      "text/plain": [
       "array([1, 1, 0, ..., 0, 0, 0])"
      ]
     },
     "execution_count": 9,
     "metadata": {},
     "output_type": "execute_result"
    }
   ],
   "source": [
    "seq_to_kmer('AAACDEFAAE')"
   ]
  },
  {
   "cell_type": "code",
   "execution_count": 10,
   "metadata": {},
   "outputs": [],
   "source": [
    "#the kernel used for SVM\n",
    "def my_kernel(X, Y):\n",
    "    \n",
    "    return np.dot(X, Y.T)"
   ]
  },
  {
   "cell_type": "code",
   "execution_count": 11,
   "metadata": {},
   "outputs": [
    {
     "data": {
      "text/plain": [
       "LogisticRegression(C=100000.0, class_weight=None, dual=False,\n",
       "                   fit_intercept=True, intercept_scaling=1, l1_ratio=None,\n",
       "                   max_iter=100, multi_class='auto', n_jobs=None, penalty='l2',\n",
       "                   random_state=None, solver='lbfgs', tol=0.0001, verbose=0,\n",
       "                   warm_start=False)"
      ]
     },
     "execution_count": 11,
     "metadata": {},
     "output_type": "execute_result"
    }
   ],
   "source": [
    "#train the svm and logistic classifier for transcriptional function using the ecoli genome as training set\n",
    "X=np.array([],'int64')\n",
    "Y=np.array([],'int64')\n",
    "n=0\n",
    "t=0\n",
    "with open('ecoli_sequence.txt', mode='r') as handle:\n",
    "    for record in SeqIO.parse(handle, 'fasta'):\n",
    "        identifier = record.id\n",
    "        description = record.description\n",
    "        sequence = record.seq\n",
    "        p_sequence=sequence.translate(to_stop=True)\n",
    "        if 'transcriptional' in description:\n",
    "            s=seq_to_kmer(str(p_sequence))\n",
    "            X=np.append(X, s)\n",
    "            Y=np.append(Y,1)\n",
    "            n=n+1\n",
    "        else:\n",
    "            rm=random.uniform(0,1)\n",
    "            if (rm<0.072):\n",
    "                t+=1\n",
    "                s=seq_to_kmer(str(p_sequence))\n",
    "                X=np.append(X, s)\n",
    "                Y=np.append(Y,0)\n",
    "X=np.reshape(X,(-1,8000))\n",
    "clf = svm.SVC(kernel=my_kernel)\n",
    "clf.fit(X, Y)\n",
    "logreg = LogisticRegression(C=1e5)\n",
    "logreg.fit(X, Y)"
   ]
  },
  {
   "cell_type": "code",
   "execution_count": 12,
   "metadata": {},
   "outputs": [
    {
     "data": {
      "text/plain": [
       "array([1])"
      ]
     },
     "execution_count": 12,
     "metadata": {},
     "output_type": "execute_result"
    }
   ],
   "source": [
    "ar=seq_to_kmer('MTEVRRRGRPGQAEPVAQKGAQALERGIAILQYLEKSGGSSSVSDISLNLDLPLSTTFRLLKVLQAADFVYQDSQLGWWHIGLGVFNVGAAYIHNRDVLSVAGPFMRRLMLLSGETVNVAIRNGNEAVLIGQLECKSMVRMCAPLGSRLPLHASGAGKALLYPLAEEELMSIILQTGLQQFTPTTLVDMPTLLKDLEQARELGYTVDKEEHVVGLNCIASAIYDDVGSVVAAISISGPSSRLTEDRFVSQGELVRDTARDISTALGLKAHP')\n",
    "clf.predict([ar])"
   ]
  },
  {
   "cell_type": "code",
   "execution_count": 13,
   "metadata": {},
   "outputs": [
    {
     "name": "stdout",
     "output_type": "stream",
     "text": [
      "The accuracy (sensitivity) of svm classification is:0.785\n"
     ]
    }
   ],
   "source": [
    "#use the prokaryote \"granu\" as test set to test the accuracy of svm classifier for transcriptional function\n",
    "n=0\n",
    "ret=np.array([],'int64')\n",
    "with open('granu_sequence.txt', mode='r') as handle:\n",
    "    for record in SeqIO.parse(handle, 'fasta'):\n",
    "        identifier = record.id\n",
    "        description = record.description\n",
    "        sequence = record.seq\n",
    "        p_sequence=sequence.translate(to_stop=True)\n",
    "        if 'transcriptional' in description:\n",
    "            n+=1\n",
    "            ar=seq_to_kmer(p_sequence)\n",
    "            r=clf.predict([ar])\n",
    "            ret=np.append(ret,r)\n",
    "print('The accuracy (sensitivity) of svm classification is:'+str(sum(ret)/n))"
   ]
  },
  {
   "cell_type": "code",
   "execution_count": 14,
   "metadata": {},
   "outputs": [
    {
     "name": "stdout",
     "output_type": "stream",
     "text": [
      "The accuracy (sensitivity) of logistic classification is:0.75\n"
     ]
    }
   ],
   "source": [
    "#use the prokaryote \"granu\" as test set to test the accuracy of logistic classifier for transcriptional function\n",
    "n=0\n",
    "ret=np.array([],'int64')\n",
    "with open('granu_sequence.txt', mode='r') as handle:\n",
    "    for record in SeqIO.parse(handle, 'fasta'):\n",
    "        identifier = record.id\n",
    "        description = record.description\n",
    "        sequence = record.seq\n",
    "        p_sequence=sequence.translate(to_stop=True)\n",
    "        if 'transcriptional' in description:\n",
    "            n+=1\n",
    "            ar=seq_to_kmer(p_sequence)\n",
    "            r=logreg.predict([ar])\n",
    "            ret=np.append(ret,r)\n",
    "print('The accuracy (sensitivity) of logistic classification is:'+str(sum(ret)/n))"
   ]
  },
  {
   "cell_type": "code",
   "execution_count": 15,
   "metadata": {},
   "outputs": [
    {
     "name": "stdout",
     "output_type": "stream",
     "text": [
      "The accuracy (specificity) of svm classification is:0.7070568510897729\n"
     ]
    }
   ],
   "source": [
    "#use the prokaryote \"granu\" as test set to test the accuracy of svm classifier for transcriptional function\n",
    "n=0\n",
    "ret=np.array([],'int64')\n",
    "with open('granu_sequence.txt', mode='r') as handle:\n",
    "    for record in SeqIO.parse(handle, 'fasta'):\n",
    "        identifier = record.id\n",
    "        description = record.description\n",
    "        sequence = record.seq\n",
    "        p_sequence=sequence.translate(to_stop=True)\n",
    "        if 'transcriptional' not in description:\n",
    "            n+=1\n",
    "            ar=seq_to_kmer(p_sequence)\n",
    "            r=1 - clf.predict([ar])\n",
    "            ret=np.append(ret,r)\n",
    "print('The accuracy (specificity) of svm classification is:'+str(sum(ret)/n))"
   ]
  },
  {
   "cell_type": "code",
   "execution_count": 16,
   "metadata": {},
   "outputs": [
    {
     "name": "stdout",
     "output_type": "stream",
     "text": [
      "The accuracy (specificity) of logistic classification is:0.7626886145404664\n"
     ]
    }
   ],
   "source": [
    "#use the prokaryote \"granu\" as test set to test the accuracy of logistic classifier for transcriptional function\n",
    "n=0\n",
    "ret=np.array([],'int64')\n",
    "with open('granu_sequence.txt', mode='r') as handle:\n",
    "    for record in SeqIO.parse(handle, 'fasta'):\n",
    "        identifier = record.id\n",
    "        description = record.description\n",
    "        sequence = record.seq\n",
    "        p_sequence=sequence.translate(to_stop=True)\n",
    "        if 'transcriptional' not in description:\n",
    "            n+=1\n",
    "            ar=seq_to_kmer(p_sequence)\n",
    "            r=1 - logreg.predict([ar])\n",
    "            ret=np.append(ret,r)\n",
    "print('The accuracy (specificity) of logistic classification is:'+str(sum(ret)/n))"
   ]
  },
  {
   "cell_type": "code",
   "execution_count": null,
   "metadata": {},
   "outputs": [],
   "source": []
  }
 ],
 "metadata": {
  "kernelspec": {
   "display_name": "Python 3",
   "language": "python",
   "name": "python3"
  },
  "language_info": {
   "codemirror_mode": {
    "name": "ipython",
    "version": 3
   },
   "file_extension": ".py",
   "mimetype": "text/x-python",
   "name": "python",
   "nbconvert_exporter": "python",
   "pygments_lexer": "ipython3",
   "version": "3.7.3"
  }
 },
 "nbformat": 4,
 "nbformat_minor": 4
}
